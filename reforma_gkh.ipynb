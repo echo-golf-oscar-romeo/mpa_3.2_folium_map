{
 "cells": [
  {
   "cell_type": "code",
   "execution_count": 1,
   "id": "6934ec11-93dd-4eb8-a330-284541356dd2",
   "metadata": {},
   "outputs": [],
   "source": [
    "# importing libraries\n",
    "import pandas as pd\n",
    "import numpy as np\n",
    "from geopy.geocoders import Nominatim\n",
    "from time import time, sleep\n",
    "from tqdm.notebook import tqdm\n",
    "import warnings"
   ]
  },
  {
   "cell_type": "code",
   "execution_count": 2,
   "id": "393506d7-9bdd-4fdb-a4fd-7fd282e8852a",
   "metadata": {},
   "outputs": [],
   "source": [
    "# configuring geolocator\n",
    "\n",
    "geolocator = Nominatim(user_agent=\"echo_golf_oscar_romeo\") # use your user_agent"
   ]
  },
  {
   "cell_type": "code",
   "execution_count": 3,
   "id": "8038b466-509d-470d-a51f-7c1fab51218d",
   "metadata": {},
   "outputs": [],
   "source": [
    "# geocoder itself\n",
    "\n",
    "def geocoder(row):\n",
    "    try:\n",
    "        point = geolocator.geocode(row).point\n",
    "        return pd.Series({'Latitude': point.latitude, 'Longitude': point.longitude})\n",
    "    except:\n",
    "        return pd.Series({'Latitude': None, 'Longitude': None})\n",
    "    \n",
    "    \n",
    "# rewriting house number and block/letter\n",
    "\n",
    "def house_number(x):\n",
    "    a = x.replace(' ', '').replace(',', '').replace('.', '').replace('№', '')\n",
    "    if (a.find('корпус') or a.find('стр')) != -1:\n",
    "        a = a.replace('корпус', 'к').replace('стр', 'с') \n",
    "    if (a.find('к') or a.find('с')) != -1 and a[-1].isalpha():\n",
    "        a = a.replace('к', '').replace('с', '')\n",
    "\n",
    "    return a\n",
    "\n",
    "\n",
    "# rewriting address\n",
    "\n",
    "def correct_address(buildings, city='any'):\n",
    "    if city != 'any':\n",
    "        buildings = buildings[buildings[\"formalname_city\"] == city]\n",
    "#     city\n",
    "    buildings['address_upd'] = buildings.apply(lambda row: row['formalname_city'] + ', ' + row['formalname_street'], axis=1)\n",
    "    \n",
    "    for row in buildings.iterrows():\n",
    "        try:\n",
    "#             street\n",
    "            if row[1][11] == ('ул' or 'Ул') and row[1][12][0].isdigit():\n",
    "                buildings.loc[row[0], 'address_upd'] += ' улица'\n",
    "            elif row[1][11] == 'мкр' and row[1][12][0].isdigit():\n",
    "                buildings.loc[row[0], 'address_upd'] += ' микрорайон'\n",
    "            elif row[1][11] == 'кв-л' and row[1][12][0].isdigit():\n",
    "                buildings.loc[row[0], 'address_upd'] += ' квартал'\n",
    "\n",
    "#             house number and block/letter\n",
    "            if row[1][17].find(' д. ') != -1:\n",
    "                buildings.loc[row[0], 'address_upd'] += (', ' + house_number(row[1][17][(row[1][17].find(' д. ') + 4):]))\n",
    "            else:\n",
    "                buildings.loc[row[0], 'address_upd'] += (', ' + row[1][13])\n",
    "        except: buildings.loc[row[0], 'address_upd'] = row[1][17]\n",
    "            \n",
    "    return buildings"
   ]
  },
  {
   "cell_type": "code",
   "execution_count": 4,
   "id": "de032565-7e89-42d7-92d2-53aaa1477ee1",
   "metadata": {},
   "outputs": [
    {
     "name": "stdout",
     "output_type": "stream",
     "text": [
      "There are 3313 addresses to geocode!\n"
     ]
    },
    {
     "data": {
      "application/vnd.jupyter.widget-view+json": {
       "model_id": "650067c633064683950818230b12b9fa",
       "version_major": 2,
       "version_minor": 0
      },
      "text/plain": [
       "  0%|          | 0/3313 [00:00<?, ?it/s]"
      ]
     },
     "metadata": {},
     "output_type": "display_data"
    },
    {
     "name": "stdout",
     "output_type": "stream",
     "text": [
      "--- 1894.22 seconds ---\n",
      "86.96% of addresses were geocoded!\n"
     ]
    }
   ],
   "source": [
    "with warnings.catch_warnings():\n",
    "    warnings.simplefilter(\"ignore\")\n",
    "    \n",
    "    # your data\n",
    "    buildings = pd.read_csv(r\"kostroma.csv\", sep=';') # specify the directory of data\n",
    "    buildings = buildings[buildings[\"formalname_city\"] == 'Кострома']\n",
    "\n",
    "    # let's geocode it!\n",
    "    tqdm.pandas()\n",
    "    start_time = time()\n",
    "    print('There are {} addresses to geocode!'.format(\n",
    "        buildings.shape[0]))\n",
    "    buildings = correct_address(buildings, city='Кострома')\n",
    "    coor = buildings.progress_apply(lambda x: geocoder(x['address_upd']), axis=1)\n",
    "    print(\"--- %s seconds ---\" % round(time() - start_time, 2))\n",
    "    print(\"{}% of addresses were geocoded!\".format(\n",
    "        round((1 - sum(np.isnan(coor[\"Latitude\"])) / len(coor)) * 100, 2)))\n",
    "    buildings[\"Latitude\"] = coor.Latitude\n",
    "    buildings[\"Longitude\"] = coor.Longitude"
   ]
  },
  {
   "cell_type": "code",
   "execution_count": 5,
   "id": "c35963b5-3183-45f9-8dce-8e8587b25897",
   "metadata": {},
   "outputs": [],
   "source": [
    "# saving your data\n",
    "\n",
    "buildings.to_csv(r\"kostroma_geocoded.csv\", encoding='utf-8') # specify the directory to store the result"
   ]
  }
 ],
 "metadata": {
  "kernelspec": {
   "display_name": "Python 3 (ipykernel)",
   "language": "python",
   "name": "python3"
  },
  "language_info": {
   "codemirror_mode": {
    "name": "ipython",
    "version": 3
   },
   "file_extension": ".py",
   "mimetype": "text/x-python",
   "name": "python",
   "nbconvert_exporter": "python",
   "pygments_lexer": "ipython3",
   "version": "3.12.3"
  }
 },
 "nbformat": 4,
 "nbformat_minor": 5
}
